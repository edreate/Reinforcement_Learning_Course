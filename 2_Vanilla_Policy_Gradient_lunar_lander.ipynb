{
 "cells": [
  {
   "cell_type": "markdown",
   "metadata": {},
   "source": [
    "# Vanilla Policy Gradient"
   ]
  },
  {
   "cell_type": "markdown",
   "metadata": {},
   "source": [
    "## Environment"
   ]
  },
  {
   "cell_type": "code",
   "execution_count": 1,
   "metadata": {},
   "outputs": [],
   "source": [
    "import gymnasium as gym\n",
    "import matplotlib\n",
    "import matplotlib.pyplot as plt"
   ]
  },
  {
   "cell_type": "code",
   "execution_count": 2,
   "metadata": {},
   "outputs": [
    {
     "name": "stdout",
     "output_type": "stream",
     "text": [
      "Number of state observations: 8\n",
      "State (Observation Space):\n",
      "x, y\n",
      "vel_x, vel_y\n",
      "angle, angle_vel\n",
      "left_leg_touching, right_leg_touching\n",
      "      \n",
      "Current state:  [ 0.00222149  1.4170508   0.22499315  0.27247924 -0.00256733 -0.05096437\n",
      "  0.          0.        ]\n",
      "Units of the state are as follows:\n",
      "      ‘x’: (units), ‘y’: (units), \n",
      "      ‘vx’: (units/second), ‘vy’: (units/second), \n",
      "      ‘angle’: (radians), ‘angular velocity’: (radians/second)\n",
      "      \n"
     ]
    }
   ],
   "source": [
    "# Select Lunar Lander v3 as environment\n",
    "env = gym.make(\"LunarLander-v3\", continuous=True, render_mode=\"rgb_array\")\n",
    "\n",
    "# Get the number of state observations\n",
    "state, info = env.reset()\n",
    "n_observations = len(state)\n",
    "print(f\"Number of state observations: {n_observations}\")\n",
    "\n",
    "print(\"\"\"State (Observation Space):\n",
    "x, y\n",
    "vel_x, vel_y\n",
    "angle, angle_vel\n",
    "left_leg_touching, right_leg_touching\n",
    "      \"\"\")\n",
    "print(\"Current state: \", state)\n",
    "\n",
    "print(\"\"\"Units of the state are as follows:\n",
    "      ‘x’: (units), ‘y’: (units), \n",
    "      ‘vx’: (units/second), ‘vy’: (units/second), \n",
    "      ‘angle’: (radians), ‘angular velocity’: (radians/second)\n",
    "      \"\"\")"
   ]
  },
  {
   "cell_type": "code",
   "execution_count": 3,
   "metadata": {},
   "outputs": [
    {
     "data": {
      "image/png": "[encoded data removed]",
      "text/plain": [
       "<Figure size 800x600 with 1 Axes>"
      ]
     },
     "metadata": {},
     "output_type": "display_data"
    }
   ],
   "source": [
    "# Reset the environment to get the initial state\n",
    "state, info = env.reset()\n",
    "\n",
    "for i in range(40):\n",
    "    env.step(action=[0, 0])\n",
    "# Render the environment to get an RGB image\n",
    "frame = env.render()\n",
    "\n",
    "# Plot the image\n",
    "plt.figure(figsize=(8, 6))\n",
    "plt.imshow(frame)\n",
    "plt.axis(\"off\")\n",
    "plt.title(\"Lunar Lander Environment\")\n",
    "plt.show()"
   ]
  },
  {
   "cell_type": "code",
   "execution_count": 4,
   "metadata": {},
   "outputs": [],
   "source": [
    "from typing import List, Type\n",
    "\n",
    "import numpy as np\n",
    "import torch\n",
    "import torch.nn as nn\n",
    "import torch.optim as optim\n",
    "from torch.distributions import Categorical, Normal\n",
    "from torchsummary import summary"
   ]
  },
  {
   "cell_type": "code",
   "execution_count": 5,
   "metadata": {},
   "outputs": [],
   "source": [
    "from models.models import ValueNetwork\n",
    "from models.VPG import ContinuousPolicyNetwork, DiscretePolicyNetwork"
   ]
  },
  {
   "cell_type": "markdown",
   "metadata": {},
   "source": [
    "## Plotting Help"
   ]
  },
  {
   "cell_type": "code",
   "execution_count": 6,
   "metadata": {},
   "outputs": [],
   "source": [
    "# set up matplotlib\n",
    "is_ipython = \"inline\" in matplotlib.get_backend()\n",
    "if is_ipython:\n",
    "    from IPython import display\n",
    "\n",
    "plt.ion()\n",
    "\n",
    "\n",
    "def plot_metrics(episode_durations, rewards, policy_losses, value_losses, show_result=False, save_path=None):\n",
    "    # Create a figure with a 2x2 grid\n",
    "    fig, axes = plt.subplots(2, 2, figsize=(12, 10), dpi=100)\n",
    "    fig.suptitle(\"Training Metrics\" if not show_result else \"Results\", fontsize=16)\n",
    "\n",
    "    # Plot Episode Durations\n",
    "    durations_t = torch.tensor(episode_durations, dtype=torch.float)\n",
    "    axes[0, 0].set_title(\"Episode Durations\")\n",
    "    axes[0, 0].set_xlabel(\"Episode\")\n",
    "    axes[0, 0].set_ylabel(\"Duration\")\n",
    "    axes[0, 0].plot(durations_t.numpy(), label=\"Duration\")\n",
    "\n",
    "    if len(durations_t) >= 100:\n",
    "        means = durations_t.unfold(0, 100, 1).mean(1).view(-1)\n",
    "        means = torch.cat((torch.zeros(99), means))\n",
    "        axes[0, 0].plot(means.numpy(), label=\"100-Episode Avg\", linestyle=\"--\")\n",
    "    axes[0, 0].legend()\n",
    "\n",
    "    # Plot Rewards\n",
    "    rewards_t = torch.tensor(rewards, dtype=torch.float)\n",
    "    axes[0, 1].set_title(\"Rewards\")\n",
    "    axes[0, 1].set_xlabel(\"Episode\")\n",
    "    axes[0, 1].set_ylabel(\"Reward\")\n",
    "    axes[0, 1].plot(rewards_t.numpy(), label=\"Reward\")\n",
    "\n",
    "    if len(rewards_t) >= 100:\n",
    "        reward_means = rewards_t.unfold(0, 100, 1).mean(1).view(-1)\n",
    "        reward_means = torch.cat((torch.zeros(99), reward_means))\n",
    "        axes[0, 1].plot(reward_means.numpy(), label=\"100-Episode Avg\", linestyle=\"--\")\n",
    "    axes[0, 1].legend()\n",
    "\n",
    "    # Plot Policy Loss\n",
    "    policy_t = torch.tensor(policy_losses, dtype=torch.float)\n",
    "    axes[1, 0].set_title(\"Policy Loss\")\n",
    "    axes[1, 0].set_xlabel(\"Episode\")\n",
    "    axes[1, 0].set_ylabel(\"Loss\")\n",
    "    axes[1, 0].plot(policy_t.numpy(), label=\"Policy Loss\", color=\"orange\")\n",
    "    axes[1, 0].legend()\n",
    "\n",
    "    # Plot Value Loss\n",
    "    value_t = torch.tensor(value_losses, dtype=torch.float)\n",
    "    axes[1, 1].set_title(\"Value Loss\")\n",
    "    axes[1, 1].set_xlabel(\"Episode\")\n",
    "    axes[1, 1].set_ylabel(\"Loss\")\n",
    "    axes[1, 1].plot(value_t.numpy(), label=\"Value Loss\", color=\"green\")\n",
    "    axes[1, 1].legend()\n",
    "\n",
    "    # Adjust layout and save/show\n",
    "    plt.tight_layout(rect=[0, 0, 1, 0.95])  # Add space for the suptitle\n",
    "    if save_path:\n",
    "        plt.savefig(save_path + \".png\", dpi=300)\n",
    "        print(f\"Metrics figure saved to {save_path}\")\n",
    "\n",
    "    if \"get_ipython\" in globals():\n",
    "        if not show_result:\n",
    "            display.clear_output(wait=True)\n",
    "            display.display(fig)\n",
    "        else:\n",
    "            display.display(fig)\n",
    "    else:\n",
    "        plt.show()\n",
    "\n",
    "    plt.close(fig)"
   ]
  },
  {
   "cell_type": "code",
   "execution_count": 7,
   "metadata": {},
   "outputs": [],
   "source": [
    "BATCH_SIZE = 256\n",
    "N_ACTIONS = 2\n",
    "HIDDEN_DIM = 256"
   ]
  },
  {
   "cell_type": "markdown",
   "metadata": {},
   "source": [
    "## 1. Value Network\n",
    "\n",
    "We’ll create a simple feedforward neural network for the state-value function. This acts as our baseline for reducing variance in the policy gradient updates."
   ]
  },
  {
   "cell_type": "code",
   "execution_count": 8,
   "metadata": {},
   "outputs": [
    {
     "name": "stdout",
     "output_type": "stream",
     "text": [
      "----------------------------------------------------------------\n",
      "        Layer (type)               Output Shape         Param #\n",
      "================================================================\n",
      "            Linear-1             [-1, 256, 256]           2,304\n",
      "            Linear-2             [-1, 256, 256]          65,792\n",
      "            Linear-3               [-1, 256, 1]             257\n",
      "================================================================\n",
      "Total params: 68,353\n",
      "Trainable params: 68,353\n",
      "Non-trainable params: 0\n",
      "----------------------------------------------------------------\n",
      "Input size (MB): 0.01\n",
      "Forward/backward pass size (MB): 1.00\n",
      "Params size (MB): 0.26\n",
      "Estimated Total Size (MB): 1.27\n",
      "----------------------------------------------------------------\n"
     ]
    },
    {
     "name": "stderr",
     "output_type": "stream",
     "text": [
      "/home/edreate/Desktop/Reinforcement_Learning_Course/venv/lib/python3.10/site-packages/torch/cuda/__init__.py:129: UserWarning: CUDA initialization: The NVIDIA driver on your system is too old (found version 11040). Please update your GPU driver by downloading and installing a new version from the URL: http://www.nvidia.com/Download/index.aspx Alternatively, go to: https://pytorch.org to install a PyTorch version that has been compiled with your version of the CUDA driver. (Triggered internally at ../c10/cuda/CUDAFunctions.cpp:108.)\n",
      "  return torch._C._cuda_getDeviceCount() > 0\n"
     ]
    }
   ],
   "source": [
    "value_network = ValueNetwork(n_observations, 256)\n",
    "\n",
    "# Generate a summary of the model\n",
    "summary(value_network, input_size=(BATCH_SIZE, n_observations))"
   ]
  },
  {
   "cell_type": "markdown",
   "metadata": {},
   "source": [
    "## 2. Discrete Policy Network\n",
    "\n",
    "For discrete action spaces, the policy outputs a probability distribution over the discrete actions (e.g., using a Softmax). We’ll return a Categorical distribution from which we can sample actions.\n",
    "\n",
    "For continuous action spaces, the policy outputs the mean and log_std of a Gaussian distribution. We can then sample from this Gaussian distribution to get actions."
   ]
  },
  {
   "cell_type": "code",
   "execution_count": 9,
   "metadata": {},
   "outputs": [
    {
     "name": "stdout",
     "output_type": "stream",
     "text": [
      "----------------------------------------------------------------\n",
      "        Layer (type)               Output Shape         Param #\n",
      "================================================================\n",
      "            Linear-1             [-1, 256, 256]           2,304\n",
      "            Linear-2             [-1, 256, 256]          65,792\n",
      "            Linear-3               [-1, 256, 1]             257\n",
      "================================================================\n",
      "Total params: 68,353\n",
      "Trainable params: 68,353\n",
      "Non-trainable params: 0\n",
      "----------------------------------------------------------------\n",
      "Input size (MB): 0.01\n",
      "Forward/backward pass size (MB): 1.00\n",
      "Params size (MB): 0.26\n",
      "Estimated Total Size (MB): 1.27\n",
      "----------------------------------------------------------------\n"
     ]
    }
   ],
   "source": [
    "policy_network = ContinuousPolicyNetwork(n_observations, N_ACTIONS, hidden_dim=HIDDEN_DIM)\n",
    "\n",
    "summary(value_network, input_size=(BATCH_SIZE, n_observations))"
   ]
  },
  {
   "cell_type": "markdown",
   "metadata": {},
   "source": [
    "## 3. Collect Trajectory\n",
    "\n",
    "We will write a helper function to collect trajectories. This function will:\n",
    "\n",
    "- Reset the environment.\n",
    "- Step through the environment using the current policy.\n",
    "- Store (state, action, reward, log_prob, done) until the episode ends.\n",
    "- Return lists of states, actions, log_probs, rewards, etc."
   ]
  },
  {
   "cell_type": "code",
   "execution_count": 10,
   "metadata": {},
   "outputs": [],
   "source": [
    "def collect_trajectory(env: gym.Env, policy_net: Type[nn.Module], value_net: Type[nn.Module], max_steps: int = 1000):\n",
    "    \"\"\"\n",
    "    Collects one trajectory (episode) given a policy.\n",
    "    Returns lists of states, actions, log_probs, rewards, done_flags, and values.\n",
    "    \"\"\"\n",
    "    global steps_taken\n",
    "    states = []\n",
    "    actions = []\n",
    "    log_probs = []\n",
    "    rewards = []\n",
    "    dones = []\n",
    "    values = []\n",
    "\n",
    "    state = env.reset()\n",
    "    for _ in range(max_steps):\n",
    "        # Get action and log_prob from policy\n",
    "        action, log_prob = policy_net.get_action(state)\n",
    "\n",
    "        # Value of the current state\n",
    "        state_t = torch.FloatTensor(state).unsqueeze(0)\n",
    "        value = value_net(state_t).item()\n",
    "\n",
    "        # Step the environment\n",
    "        next_state, reward, terminated, truncated, _ = env.step(action)\n",
    "\n",
    "        steps_taken += 1\n",
    "\n",
    "        done = terminated or truncated\n",
    "\n",
    "        # Record\n",
    "        states.append(state)\n",
    "        actions.append(action)\n",
    "        log_probs.append(log_prob)\n",
    "        rewards.append(reward)\n",
    "        dones.append(done)\n",
    "        values.append(value)\n",
    "\n",
    "        state = next_state\n",
    "        if done:\n",
    "            break\n",
    "\n",
    "    return states, actions, log_probs, rewards, dones, values"
   ]
  },
  {
   "cell_type": "markdown",
   "metadata": {},
   "source": [
    "## 4. Advantage Calculation\n",
    "\n",
    "We’ll compute the return (cumulative discounted reward) from each timestep, then compute the advantages by subtracting the value function (baseline)."
   ]
  },
  {
   "cell_type": "code",
   "execution_count": 11,
   "metadata": {},
   "outputs": [],
   "source": [
    "def compute_advantages(rewards: List[float], values: List[float], dones: List[bool], gamma: float = 0.99):\n",
    "    \"\"\"\n",
    "    Compute advantage using: Gt - V(st),\n",
    "    where Gt is the discounted return from time t.\n",
    "    \"\"\"\n",
    "    # Convert to numpy arrays for convenience\n",
    "    rewards = np.array(rewards, dtype=np.float32)\n",
    "    values = np.array(values, dtype=np.float32)\n",
    "    dones = np.array(dones, dtype=np.bool)\n",
    "\n",
    "    # Bootstrapped final value is zero for an episode\n",
    "    # (or you could do a value_net(next_state) if continuing)\n",
    "    returns = []\n",
    "    G = 0\n",
    "    for r, done in zip(rewards[::-1], dones[::-1]):\n",
    "        if done:\n",
    "            G = 0\n",
    "        G = r + gamma * G\n",
    "        returns.append(G)\n",
    "    returns.reverse()\n",
    "    returns = np.array(returns, dtype=np.float32)\n",
    "\n",
    "    advantages = returns - values\n",
    "    return returns, advantages"
   ]
  },
  {
   "cell_type": "markdown",
   "metadata": {},
   "source": [
    "## Training"
   ]
  },
  {
   "cell_type": "code",
   "execution_count": 12,
   "metadata": {},
   "outputs": [],
   "source": [
    "def train_vpg_continuous(\n",
    "    env: gym.Env, state_dim, action_dim, hidden_dim=256, lr_policy=1e-3, lr_value=1e-3, gamma=0.99, max_episodes=1000\n",
    "):\n",
    "    global episode_durations, episode_rewards, policy_losses, value_losses\n",
    "\n",
    "    # Initialize networks\n",
    "    policy_net = ContinuousPolicyNetwork(state_dim, action_dim, hidden_dim)\n",
    "    value_net = ValueNetwork(state_dim, hidden_dim)\n",
    "\n",
    "    # Optimizers\n",
    "    policy_optimizer = optim.Adam(policy_net.parameters(), lr=lr_policy)\n",
    "    value_optimizer = optim.Adam(value_net.parameters(), lr=lr_value)\n",
    "\n",
    "    for episode in range(max_episodes):\n",
    "        # Collect one trajectory\n",
    "        (states, actions, log_probs, rewards, dones, values) = collect_trajectory(env, policy_net, value_net)\n",
    "\n",
    "        # Compute returns and advantages\n",
    "        returns, advantages = compute_advantages(rewards, values, dones, gamma)\n",
    "\n",
    "        # Convert everything to torch tensors\n",
    "        log_probs_tensor = torch.stack(log_probs)\n",
    "        advantages_tensor = torch.FloatTensor(advantages)\n",
    "        returns_tensor = torch.FloatTensor(returns)\n",
    "\n",
    "        # 1. Update Policy (maximize log_prob * advantage)\n",
    "        policy_optimizer.zero_grad()\n",
    "        policy_loss = -(log_probs_tensor * advantages_tensor).mean()\n",
    "        policy_loss.backward()\n",
    "        policy_optimizer.step()\n",
    "\n",
    "        # 2. Update Value Function (fit to returns)\n",
    "        value_optimizer.zero_grad()\n",
    "        states_tensor = torch.FloatTensor(states)\n",
    "        value_preds = value_net(states_tensor).squeeze()\n",
    "        value_loss = nn.MSELoss()(value_preds, returns_tensor)\n",
    "        value_loss.backward()\n",
    "        value_optimizer.step()\n",
    "\n",
    "        # Logging\n",
    "        ep_return = np.sum(rewards)\n",
    "        print(f\"Episode {episode}, Return: {ep_return:.2f}\")\n",
    "\n",
    "        episode_durations.append(len(dones))\n",
    "        episode_rewards.append(sum(rewards))\n",
    "        policy_losses.append(policy_loss.item())\n",
    "        value_losses.append(value_loss.item())\n",
    "\n",
    "        plot_metrics(episode_durations, episode_rewards, policy_losses, value_losses)\n",
    "\n",
    "    env.close()\n",
    "    return policy_net, value_net"
   ]
  },
  {
   "cell_type": "code",
   "execution_count": 13,
   "metadata": {},
   "outputs": [
    {
     "name": "stderr",
     "output_type": "stream",
     "text": [
      "/home/edreate/Desktop/Reinforcement_Learning_Course/models/VPG.py:67: UserWarning: Creating a tensor from a list of numpy.ndarrays is extremely slow. Please consider converting the list to a single numpy.ndarray with numpy.array() before converting to a tensor. (Triggered internally at ../torch/csrc/utils/tensor_new.cpp:278.)\n",
      "  state = torch.FloatTensor(state).unsqueeze(0)\n"
     ]
    },
    {
     "ename": "ValueError",
     "evalue": "expected sequence of length 8 at dim 1 (got 0)",
     "output_type": "error",
     "traceback": [
      "\u001b[0;31m---------------------------------------------------------------------------\u001b[0m",
      "\u001b[0;31mValueError\u001b[0m                                Traceback (most recent call last)",
      "Cell \u001b[0;32mIn[13], line 8\u001b[0m\n\u001b[1;32m      5\u001b[0m steps_taken \u001b[38;5;241m=\u001b[39m \u001b[38;5;241m0\u001b[39m\n\u001b[1;32m      6\u001b[0m model_name \u001b[38;5;241m=\u001b[39m \u001b[38;5;124m\"\u001b[39m\u001b[38;5;124msac_checkpoint_best\u001b[39m\u001b[38;5;124m\"\u001b[39m\n\u001b[0;32m----> 8\u001b[0m \u001b[43mtrain_vpg_continuous\u001b[49m\u001b[43m(\u001b[49m\u001b[43menv\u001b[49m\u001b[43m,\u001b[49m\u001b[43m \u001b[49m\u001b[43mn_observations\u001b[49m\u001b[43m,\u001b[49m\u001b[43m \u001b[49m\u001b[43mN_ACTIONS\u001b[49m\u001b[43m)\u001b[49m\n",
      "Cell \u001b[0;32mIn[12], line 22\u001b[0m, in \u001b[0;36mtrain_vpg_continuous\u001b[0;34m(env, state_dim, action_dim, hidden_dim, lr_policy, lr_value, gamma, max_episodes)\u001b[0m\n\u001b[1;32m     18\u001b[0m value_optimizer \u001b[38;5;241m=\u001b[39m optim\u001b[38;5;241m.\u001b[39mAdam(value_net\u001b[38;5;241m.\u001b[39mparameters(), lr\u001b[38;5;241m=\u001b[39mlr_value)\n\u001b[1;32m     20\u001b[0m \u001b[38;5;28;01mfor\u001b[39;00m episode \u001b[38;5;129;01min\u001b[39;00m \u001b[38;5;28mrange\u001b[39m(max_episodes):\n\u001b[1;32m     21\u001b[0m     \u001b[38;5;66;03m# Collect one trajectory\u001b[39;00m\n\u001b[0;32m---> 22\u001b[0m     (states, actions, log_probs, rewards, dones, values) \u001b[38;5;241m=\u001b[39m \u001b[43mcollect_trajectory\u001b[49m\u001b[43m(\u001b[49m\u001b[43menv\u001b[49m\u001b[43m,\u001b[49m\u001b[43m \u001b[49m\u001b[43mpolicy_net\u001b[49m\u001b[43m,\u001b[49m\u001b[43m \u001b[49m\u001b[43mvalue_net\u001b[49m\u001b[43m)\u001b[49m\n\u001b[1;32m     24\u001b[0m     \u001b[38;5;66;03m# Compute returns and advantages\u001b[39;00m\n\u001b[1;32m     25\u001b[0m     returns, advantages \u001b[38;5;241m=\u001b[39m compute_advantages(rewards, values, dones, gamma)\n",
      "Cell \u001b[0;32mIn[10], line 17\u001b[0m, in \u001b[0;36mcollect_trajectory\u001b[0;34m(env, policy_net, value_net, max_steps)\u001b[0m\n\u001b[1;32m     14\u001b[0m state \u001b[38;5;241m=\u001b[39m env\u001b[38;5;241m.\u001b[39mreset()\n\u001b[1;32m     15\u001b[0m \u001b[38;5;28;01mfor\u001b[39;00m _ \u001b[38;5;129;01min\u001b[39;00m \u001b[38;5;28mrange\u001b[39m(max_steps):\n\u001b[1;32m     16\u001b[0m     \u001b[38;5;66;03m# Get action and log_prob from policy\u001b[39;00m\n\u001b[0;32m---> 17\u001b[0m     action, log_prob \u001b[38;5;241m=\u001b[39m \u001b[43mpolicy_net\u001b[49m\u001b[38;5;241;43m.\u001b[39;49m\u001b[43mget_action\u001b[49m\u001b[43m(\u001b[49m\u001b[43mstate\u001b[49m\u001b[43m)\u001b[49m\n\u001b[1;32m     19\u001b[0m     \u001b[38;5;66;03m# Value of the current state\u001b[39;00m\n\u001b[1;32m     20\u001b[0m     state_t \u001b[38;5;241m=\u001b[39m torch\u001b[38;5;241m.\u001b[39mFloatTensor(state)\u001b[38;5;241m.\u001b[39munsqueeze(\u001b[38;5;241m0\u001b[39m)\n",
      "File \u001b[0;32m~/Desktop/Reinforcement_Learning_Course/models/VPG.py:67\u001b[0m, in \u001b[0;36mContinuousPolicyNetwork.get_action\u001b[0;34m(self, state)\u001b[0m\n\u001b[1;32m     62\u001b[0m \u001b[38;5;28;01mdef\u001b[39;00m \u001b[38;5;21mget_action\u001b[39m(\u001b[38;5;28mself\u001b[39m, state):\n\u001b[1;32m     63\u001b[0m \u001b[38;5;250m    \u001b[39m\u001b[38;5;124;03m\"\"\"\u001b[39;00m\n\u001b[1;32m     64\u001b[0m \u001b[38;5;124;03m    state: single state, shape [state_dim]\u001b[39;00m\n\u001b[1;32m     65\u001b[0m \u001b[38;5;124;03m    returns: sampled_action (numpy array), log_prob_of_that_action\u001b[39;00m\n\u001b[1;32m     66\u001b[0m \u001b[38;5;124;03m    \"\"\"\u001b[39;00m\n\u001b[0;32m---> 67\u001b[0m     state \u001b[38;5;241m=\u001b[39m \u001b[43mtorch\u001b[49m\u001b[38;5;241;43m.\u001b[39;49m\u001b[43mFloatTensor\u001b[49m\u001b[43m(\u001b[49m\u001b[43mstate\u001b[49m\u001b[43m)\u001b[49m\u001b[38;5;241m.\u001b[39munsqueeze(\u001b[38;5;241m0\u001b[39m)\n\u001b[1;32m     68\u001b[0m     dist \u001b[38;5;241m=\u001b[39m \u001b[38;5;28mself\u001b[39m\u001b[38;5;241m.\u001b[39mforward(state)\n\u001b[1;32m     69\u001b[0m     action \u001b[38;5;241m=\u001b[39m dist\u001b[38;5;241m.\u001b[39msample()\n",
      "\u001b[0;31mValueError\u001b[0m: expected sequence of length 8 at dim 1 (got 0)"
     ]
    }
   ],
   "source": [
    "episode_durations = []\n",
    "episode_rewards = []\n",
    "policy_losses = []\n",
    "value_losses = []\n",
    "steps_taken = 0\n",
    "model_name = \"sac_checkpoint_best\"\n",
    "\n",
    "train_vpg_continuous(env, n_observations, N_ACTIONS)"
   ]
  }
 ],
 "metadata": {
  "kernelspec": {
   "display_name": "venv",
   "language": "python",
   "name": "python3"
  },
  "language_info": {
   "codemirror_mode": {
    "name": "ipython",
    "version": 3
   },
   "file_extension": ".py",
   "mimetype": "text/x-python",
   "name": "python",
   "nbconvert_exporter": "python",
   "pygments_lexer": "ipython3",
   "version": "3.10.12"
  }
 },
 "nbformat": 4,
 "nbformat_minor": 2
}
