{
 "cells": [
  {
   "cell_type": "markdown",
   "metadata": {},
   "source": [
    "## Vanilla Policy Gradient"
   ]
  },
  {
   "cell_type": "markdown",
   "metadata": {},
   "source": []
  },
  {
   "cell_type": "markdown",
   "metadata": {},
   "source": [
    "## Create an Environment"
   ]
  },
  {
   "cell_type": "code",
   "execution_count": 13,
   "metadata": {},
   "outputs": [],
   "source": [
    "import gymnasium as gym\n",
    "import matplotlib.pyplot as plt\n",
    "import numpy as np"
   ]
  },
  {
   "cell_type": "code",
   "execution_count": 14,
   "metadata": {},
   "outputs": [
    {
     "name": "stdout",
     "output_type": "stream",
     "text": [
      "Number of possible actions: 4\n",
      "Actions:\n",
      "0: do nothing\n",
      "1: fire left orientation engine\n",
      "2: fire main engine\n",
      "3: fire right orientation engine\n",
      "\n",
      "Number of state observations: 8\n",
      "State (Observation Space):\n",
      "x, y\n",
      "vel_x, vel_y\n",
      "angle, angle_vel\n",
      "left_leg_touching, right_leg_touching\n",
      "      \n",
      "Current state:  [ 0.00225029  1.4121264   0.22791049  0.05360668 -0.00260069 -0.05162515\n",
      "  0.          0.        ]\n",
      "Units of the state are as follows:\n",
      "      ‘x’: (units), ‘y’: (units), \n",
      "      ‘vx’: (units/second), ‘vy’: (units/second), \n",
      "      ‘angle’: (radians), ‘angular velocity’: (radians/second)\n",
      "      \n"
     ]
    }
   ],
   "source": [
    "env = gym.make(\"LunarLander-v3\", continuous=False, render_mode=\"rgb_array\")\n",
    "\n",
    "# Get number of actions from gym action space\n",
    "n_actions = int(env.action_space.n)\n",
    "print(f\"Number of possible actions: {n_actions}\")\n",
    "print(\"\"\"Actions:\n",
    "0: do nothing\n",
    "1: fire left orientation engine\n",
    "2: fire main engine\n",
    "3: fire right orientation engine\n",
    "\"\"\")\n",
    "\n",
    "# Get the number of state observations\n",
    "state, info = env.reset()\n",
    "n_observations = len(state)\n",
    "print(f\"Number of state observations: {n_observations}\")\n",
    "\n",
    "print(\"\"\"State (Observation Space):\n",
    "x, y\n",
    "vel_x, vel_y\n",
    "angle, angle_vel\n",
    "left_leg_touching, right_leg_touching\n",
    "      \"\"\")\n",
    "print(\"Current state: \", state)\n",
    "\n",
    "print(\"\"\"Units of the state are as follows:\n",
    "      ‘x’: (units), ‘y’: (units), \n",
    "      ‘vx’: (units/second), ‘vy’: (units/second), \n",
    "      ‘angle’: (radians), ‘angular velocity’: (radians/second)\n",
    "      \"\"\")"
   ]
  },
  {
   "cell_type": "code",
   "execution_count": 15,
   "metadata": {},
   "outputs": [
    {
     "data": {
      "image/png": "[encoded data removed]",
      "text/plain": [
       "<Figure size 800x600 with 1 Axes>"
      ]
     },
     "metadata": {},
     "output_type": "display_data"
    }
   ],
   "source": [
    "# Reset the environment to get the initial state\n",
    "state, info = env.reset()\n",
    "\n",
    "for i in range(50):\n",
    "    env.step(action=0)\n",
    "# Render the environment to get an RGB image\n",
    "frame = env.render()\n",
    "\n",
    "# Plot the image\n",
    "plt.figure(figsize=(8, 6))\n",
    "plt.imshow(frame)\n",
    "plt.axis(\"off\")\n",
    "plt.title(\"Lunar Lander Environment\")\n",
    "plt.show()"
   ]
  },
  {
   "cell_type": "markdown",
   "metadata": {},
   "source": [
    "## Create VPG Components"
   ]
  },
  {
   "cell_type": "code",
   "execution_count": 16,
   "metadata": {},
   "outputs": [],
   "source": [
    "import torch\n",
    "import torch.nn as nn\n",
    "from torch.distributions.categorical import Categorical\n",
    "from torch.optim import Adam, Optimizer\n",
    "\n",
    "from typing import Tuple\n",
    "\n",
    "from models import PolicyNetwork"
   ]
  },
  {
   "cell_type": "code",
   "execution_count": 17,
   "metadata": {},
   "outputs": [
    {
     "data": {
      "text/plain": [
       "<torch._C.Generator at 0x7d5bf58212b0>"
      ]
     },
     "execution_count": 17,
     "metadata": {},
     "output_type": "execute_result"
    }
   ],
   "source": [
    "torch.manual_seed(0)"
   ]
  },
  {
   "cell_type": "code",
   "execution_count": 18,
   "metadata": {},
   "outputs": [],
   "source": [
    "class VPGPolicy:\n",
    "    def __init__(\n",
    "        self,\n",
    "        num_inputs: int,\n",
    "        num_outputs: int,\n",
    "        device: torch.device,\n",
    "        learning_rate: float = 0.003,\n",
    "        discount_factor: float = 0.99,\n",
    "    ) -> None:\n",
    "        self.device = device\n",
    "\n",
    "        self.policy_network = PolicyNetwork(num_inputs, num_outputs)\n",
    "        self.policy_network.to(self.device)\n",
    "\n",
    "        self.optimizer = Adam(params=self.policy_network.parameters(), lr=learning_rate)\n",
    "\n",
    "        self.gamma = discount_factor\n",
    "\n",
    "    def select_action(self, state: torch.Tensor) -> Tuple[int, torch.Tensor]:\n",
    "        \"\"\"\n",
    "        Selects an action based on the current state and computes its log-probability.\n",
    "\n",
    "        Args:\n",
    "            state (torch.Tensor): The current state represented as a tensor.\n",
    "\n",
    "        Returns:\n",
    "            Tuple[int, torch.Tensor]:\n",
    "                - action (int): The chosen action index.\n",
    "                - log_prob (torch.Tensor): The log-probability of the chosen action.\n",
    "        \"\"\"\n",
    "        # Forward pass through the policy network to get action logits.\n",
    "        action_logits = self.policy_network(state)\n",
    "\n",
    "        # Create a categorical distribution from the logits.\n",
    "        action_distribution = Categorical(logits=action_logits)\n",
    "\n",
    "        # Sample an action from the distribution.\n",
    "        sampled_action = action_distribution.sample()\n",
    "\n",
    "        # Convert the sampled action to a Python integer.\n",
    "        action_index = int(sampled_action.item())\n",
    "\n",
    "        # Calculate the log-probability of the selected action.\n",
    "        log_prob = action_distribution.log_prob(sampled_action)\n",
    "\n",
    "        return action_index, log_prob\n",
    "\n",
    "    def compute_discounted_returns(self, rewards: torch.Tensor) -> torch.Tensor:\n",
    "        \"\"\"\n",
    "        Computes discounted returns for a sequence of rewards.\n",
    "\n",
    "        Args:\n",
    "            rewards (torch.Tensor): Rewards for the episode.\n",
    "            gamma (float): Discount factor.\n",
    "\n",
    "        Returns:\n",
    "            torch.Tensor: Discounted returns.\n",
    "        \"\"\"\n",
    "        discounted_returns = []\n",
    "        cumulative_return = 0.0\n",
    "        for reward in reversed(rewards):\n",
    "            cumulative_return = reward + self.gamma * cumulative_return\n",
    "            discounted_returns.insert(0, cumulative_return)\n",
    "        discounted_returns = torch.tensor(discounted_returns, dtype=torch.float32)\n",
    "        return (discounted_returns - discounted_returns.mean()) / (discounted_returns.std() + 1e-8)\n",
    "\n",
    "    def calculate_policy_loss(\n",
    "        self, episode_log_probability_actions: torch.Tensor, episode_action_rewards: torch.Tensor\n",
    "    ):\n",
    "        \"\"\"\n",
    "        The loss is negated because most optimization libraries (like PyTorch) perform minimization,\n",
    "        while the policy gradient aims to maximize the objective J(θ).\n",
    "        \"\"\"\n",
    "        return -(episode_log_probability_actions * episode_action_rewards).mean()\n",
    "\n",
    "    def optimize_policy(self, episode_log_probability_actions: torch.Tensor, episode_action_rewards: torch.Tensor):\n",
    "        loss = self.calculate_policy_loss(episode_log_probability_actions, episode_action_rewards)\n",
    "\n",
    "        loss.backward()\n",
    "        self.optimizer.step()\n",
    "        self.optimizer.zero_grad()\n",
    "\n",
    "        return loss.item()"
   ]
  },
  {
   "cell_type": "markdown",
   "metadata": {},
   "source": [
    "### Training"
   ]
  },
  {
   "cell_type": "code",
   "execution_count": 19,
   "metadata": {},
   "outputs": [
    {
     "name": "stdout",
     "output_type": "stream",
     "text": [
      "Using device:  cpu\n"
     ]
    }
   ],
   "source": [
    "device = torch.device(\"cuda\" if torch.cuda.is_available() else \"mps\" if torch.backends.mps.is_available() else \"cpu\")\n",
    "print(\"Using device: \", device)"
   ]
  },
  {
   "cell_type": "code",
   "execution_count": 20,
   "metadata": {},
   "outputs": [],
   "source": [
    "learning_rate = 0.003\n",
    "discount_factor = 0.99\n",
    "\n",
    "policy = VPGPolicy(\n",
    "    num_inputs=n_observations,\n",
    "    num_outputs=n_actions,\n",
    "    learning_rate=learning_rate,\n",
    "    device=device,\n",
    "    discount_factor=discount_factor,\n",
    ")"
   ]
  },
  {
   "cell_type": "code",
   "execution_count": 21,
   "metadata": {},
   "outputs": [],
   "source": [
    "def train_policy_on_batch(env: gym.Env, policy: VPGPolicy, device: torch.device, batch_size: int = 16) -> dict:\n",
    "    \"\"\"\n",
    "    Collects data from multiple episodes and trains the policy on the combined batch.\n",
    "\n",
    "    Args:\n",
    "        env: The environment to interact with (following the OpenAI Gym interface).\n",
    "        policy: The policy object that defines action selection and optimization.\n",
    "        device: The device to run computations on (CPU/GPU).\n",
    "        batch_size: Number of episodes to collect before updating the policy.\n",
    "\n",
    "    Returns:\n",
    "        dict: A dictionary of metrics tracking batch performance and training progress.\n",
    "    \"\"\"\n",
    "    # Lists to store batch data\n",
    "    batch_log_probs = []\n",
    "    batch_rewards = []\n",
    "    batch_returns = []\n",
    "    total_rewards = []  # To track episode rewards for logging\n",
    "    total_steps = 0  # To track steps taken across episodes\n",
    "\n",
    "    for _ in range(batch_size):\n",
    "        # Reset the environment for a new episode\n",
    "        state, _ = env.reset()\n",
    "        episode_log_probs = []\n",
    "        episode_rewards = []\n",
    "        episode_reward = 0.0\n",
    "\n",
    "        while True:\n",
    "            # Convert state to tensor and send it to the device\n",
    "            state_tensor = torch.Tensor(state).to(device)\n",
    "\n",
    "            # Select an action using the policy\n",
    "            action, log_prob = policy.select_action(state=state_tensor)\n",
    "\n",
    "            # Take the selected action in the environment\n",
    "            next_state, reward, terminated, truncated, _ = env.step(action)\n",
    "\n",
    "            # Store log-probability and reward\n",
    "            episode_log_probs.append(log_prob)\n",
    "            episode_rewards.append(reward)\n",
    "\n",
    "            # Update cumulative reward and state\n",
    "            episode_reward += reward\n",
    "            state = next_state\n",
    "            total_steps += 1\n",
    "\n",
    "            # Break if the episode ends\n",
    "            if terminated or truncated:\n",
    "                break\n",
    "\n",
    "        # Store episode data into batch data\n",
    "        total_rewards.append(episode_reward)\n",
    "        batch_log_probs.extend(episode_log_probs)\n",
    "        batch_rewards.extend(episode_rewards)\n",
    "\n",
    "        # Compute discounted returns for the episode and store them\n",
    "        episode_returns = policy.compute_discounted_returns(torch.Tensor(episode_rewards))\n",
    "        batch_returns.extend(episode_returns)\n",
    "\n",
    "    # Convert batch data to tensors\n",
    "    batch_log_probs_tensor = torch.stack(batch_log_probs).to(device)\n",
    "    batch_returns_tensor = torch.Tensor(batch_returns).to(device)\n",
    "\n",
    "    # Optimize the policy\n",
    "    policy_loss = policy.optimize_policy(batch_log_probs_tensor, batch_returns_tensor)\n",
    "\n",
    "    # Return metrics to track training progress\n",
    "    metrics = {\n",
    "        \"batch_reward\": sum(total_rewards) / batch_size,  # Average reward per episode\n",
    "        \"total_steps\": total_steps // batch_size,\n",
    "        \"policy_loss\": policy_loss,\n",
    "    }\n",
    "\n",
    "    return metrics"
   ]
  },
  {
   "cell_type": "code",
   "execution_count": 22,
   "metadata": {},
   "outputs": [],
   "source": [
    "from datetime import datetime\n",
    "\n",
    "timestamp = datetime.now().strftime(\"%Y-%m-%d_%H-%M-%S\")"
   ]
  },
  {
   "cell_type": "code",
   "execution_count": 23,
   "metadata": {},
   "outputs": [],
   "source": [
    "def train_vpg_policy(\n",
    "    max_episodes: int = 500, reward_threshold: float = 200.0, rolling_window: int = 50, batch_size: int = 16\n",
    "):\n",
    "    rewards_history = []\n",
    "    loss_history = []\n",
    "    steps_history = []\n",
    "\n",
    "    best_average_reward = 0\n",
    "\n",
    "    for episode in range(1, max_episodes + 1):\n",
    "        metrics = train_policy_on_batch(env, policy, device, batch_size)\n",
    "\n",
    "        # Collect metrics\n",
    "        rewards_history.append(metrics[\"batch_reward\"])\n",
    "        loss_history.append(metrics[\"policy_loss\"])\n",
    "        steps_history.append(metrics[\"total_steps\"])\n",
    "\n",
    "        # Print metrics every 50 episodes\n",
    "        avg_reward = np.mean(rewards_history[-50:])\n",
    "\n",
    "        if episode % 50 == 0:\n",
    "            print(\n",
    "                f\"Episode {episode}: Average Reward: {avg_reward:.2f}, \"\n",
    "                f\"Loss: {metrics['policy_loss']:.4f}, Steps: {metrics['total_steps']}\"\n",
    "            )\n",
    "\n",
    "        # Convergence condition: Check if the rolling average exceeds the reward threshold\n",
    "        if len(rewards_history) >= rolling_window:\n",
    "            avg_rolling_reward = np.mean(rewards_history[-rolling_window:])\n",
    "            if avg_rolling_reward >= reward_threshold:\n",
    "                print(\n",
    "                    f\"Environment solved in {episode} episodes! \"\n",
    "                    f\"Average reward over the last {rolling_window} episodes: {avg_rolling_reward:.2f}\"\n",
    "                )\n",
    "                break\n",
    "        if avg_reward >= best_average_reward:\n",
    "            best_average_reward = avg_reward\n",
    "\n",
    "            # Create a filename that includes both the steps_done and timestamp\n",
    "            filename = f\"output/policy_network_lunar_lander_v3_bs_{batch_size}_{timestamp}.pth\"\n",
    "\n",
    "            # Save the policy network with the dynamically generated filename\n",
    "            torch.save(policy.policy_network.state_dict(), filename)\n",
    "\n",
    "            print(f\"Average reward: {avg_reward}. Model saved as: {filename}\")\n",
    "\n",
    "    env.close()\n",
    "\n",
    "    return rewards_history, loss_history, steps_history"
   ]
  },
  {
   "cell_type": "code",
   "execution_count": null,
   "metadata": {},
   "outputs": [],
   "source": [
    "max_episodes = 100\n",
    "reward_threshold = 200.0\n",
    "batch_size = 16\n",
    "\n",
    "rewards_history, loss_history, steps_history = train_vpg_policy(\n",
    "    max_episodes=max_episodes, reward_threshold=reward_threshold, batch_size=batch_size\n",
    ")"
   ]
  },
  {
   "cell_type": "code",
   "execution_count": null,
   "metadata": {},
   "outputs": [],
   "source": [
    "# Plot metrics\n",
    "plt.figure(figsize=(16, 5))\n",
    "\n",
    "# Plot rewards\n",
    "plt.subplot(1, 3, 1)\n",
    "plt.plot(rewards_history, label=\"Reward per Episode\")\n",
    "plt.axhline(y=reward_threshold, color=\"r\", linestyle=\"--\", label=\"Reward Threshold\")\n",
    "plt.xlabel(\"Episode\")\n",
    "plt.ylabel(\"Reward\")\n",
    "plt.title(\"Episode Rewards\")\n",
    "plt.legend()\n",
    "\n",
    "# Plot loss\n",
    "plt.subplot(1, 3, 2)\n",
    "plt.plot(loss_history, label=\"Loss per Episode\", color=\"orange\")\n",
    "plt.xlabel(\"Episode\")\n",
    "plt.ylabel(\"Loss\")\n",
    "plt.title(\"Policy Loss\")\n",
    "plt.legend()\n",
    "\n",
    "# Plot steps\n",
    "plt.subplot(1, 3, 3)\n",
    "plt.plot(steps_history, label=\"Steps per Episode\", color=\"green\")\n",
    "plt.xlabel(\"Episode\")\n",
    "plt.ylabel(\"Steps\")\n",
    "plt.title(\"Steps Taken\")\n",
    "plt.legend()\n",
    "\n",
    "plt.tight_layout()\n",
    "plt.show()\n",
    "\n",
    "print(\"Training complete.\")"
   ]
  },
  {
   "cell_type": "code",
   "execution_count": null,
   "metadata": {},
   "outputs": [],
   "source": []
  }
 ],
 "metadata": {
  "kernelspec": {
   "display_name": "venv",
   "language": "python",
   "name": "python3"
  },
  "language_info": {
   "codemirror_mode": {
    "name": "ipython",
    "version": 3
   },
   "file_extension": ".py",
   "mimetype": "text/x-python",
   "name": "python",
   "nbconvert_exporter": "python",
   "pygments_lexer": "ipython3",
   "version": "3.10.12"
  }
 },
 "nbformat": 4,
 "nbformat_minor": 2
}
