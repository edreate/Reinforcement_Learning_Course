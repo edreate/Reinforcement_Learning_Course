{
 "cells": [
  {
   "cell_type": "code",
   "execution_count": 1,
   "metadata": {
    "id": "2SaPBv6xFvp1"
   },
   "outputs": [],
   "source": [
    "# For tips on running notebooks in Google Colab, see\n",
    "# https://pytorch.org/tutorials/beginner/colab\n",
    "%matplotlib inline"
   ]
  },
  {
   "cell_type": "markdown",
   "metadata": {
    "id": "0KsKlr_eFvp2"
   },
   "source": [
    "Reinforcement Learning (DQN) Tutorial\n",
    "=====================================\n",
    "\n",
    "**Author**: [Adam Paszke](https://github.com/apaszke)\n",
    "\n",
    ":   [Mark Towers](https://github.com/pseudo-rnd-thoughts)\n",
    "\n",
    "This tutorial shows how to use PyTorch to train a Deep Q Learning (DQN)\n",
    "agent on the CartPole-v1 task from\n",
    "[Gymnasium](https://gymnasium.farama.org).\n",
    "\n",
    "You might find it helpful to read the original [Deep Q Learning\n",
    "(DQN)](https://arxiv.org/abs/1312.5602) paper\n",
    "\n",
    "**Task**\n",
    "\n",
    "The agent has to decide between two actions - moving the cart left or\n",
    "right - so that the pole attached to it stays upright. You can find more\n",
    "information about the environment and other more challenging\n",
    "environments at [Gymnasium\\'s\n",
    "website](https://gymnasium.farama.org/environments/classic_control/cart_pole/).\n",
    "\n",
    "![CartPole](https://pytorch.org/tutorials/_static/img/cartpole.gif)\n",
    "\n",
    "As the agent observes the current state of the environment and chooses\n",
    "an action, the environment *transitions* to a new state, and also\n",
    "returns a reward that indicates the consequences of the action. In this\n",
    "task, rewards are +1 for every incremental timestep and the environment\n",
    "terminates if the pole falls over too far or the cart moves more than\n",
    "2.4 units away from center. This means better performing scenarios will\n",
    "run for longer duration, accumulating larger return.\n",
    "\n",
    "The CartPole task is designed so that the inputs to the agent are 4 real\n",
    "values representing the environment state (position, velocity, etc.). We\n",
    "take these 4 inputs without any scaling and pass them through a small\n",
    "fully-connected network with 2 outputs, one for each action. The network\n",
    "is trained to predict the expected value for each action, given the\n",
    "input state. The action with the highest expected value is then chosen.\n",
    "\n",
    "**Packages**\n",
    "\n",
    "First, let\\'s import needed packages. Firstly, we need\n",
    "[gymnasium](https://gymnasium.farama.org/) for the environment,\n",
    "installed by using [pip]{.title-ref}. This is a fork of the original\n",
    "OpenAI Gym project and maintained by the same team since Gym v0.19. If\n",
    "you are running this in Google Colab, run:\n",
    "\n",
    "``` {.sourceCode .bash}\n",
    "%%bash\n",
    "pip3 install gymnasium[classic_control]\n",
    "```\n",
    "\n",
    "We\\'ll also use the following from PyTorch:\n",
    "\n",
    "-   neural networks (`torch.nn`)\n",
    "-   optimization (`torch.optim`)\n",
    "-   automatic differentiation (`torch.autograd`)\n"
   ]
  },
  {
   "cell_type": "code",
   "execution_count": 2,
   "metadata": {
    "id": "295_WPnUFvp3"
   },
   "outputs": [],
   "source": [
    "import gymnasium as gym\n",
    "import math\n",
    "import random\n",
    "import matplotlib\n",
    "import matplotlib.pyplot as plt\n",
    "from collections import namedtuple, deque\n",
    "from itertools import count\n",
    "\n",
    "import torch\n",
    "import torch.nn as nn\n",
    "import torch.optim as optim\n",
    "from typing import Deque, List\n",
    "from datetime import datetime\n",
    "\n",
    "\n",
    "from models import DQN"
   ]
  },
  {
   "cell_type": "code",
   "execution_count": 3,
   "metadata": {},
   "outputs": [
    {
     "data": {
      "text/plain": [
       "<contextlib.ExitStack at 0x1073d9dc0>"
      ]
     },
     "execution_count": 3,
     "metadata": {},
     "output_type": "execute_result"
    }
   ],
   "source": [
    "env = gym.make(\"CartPole-v1\", render_mode=\"rgb_array\")\n",
    "\n",
    "# set up matplotlib\n",
    "is_ipython = \"inline\" in matplotlib.get_backend()\n",
    "if is_ipython:\n",
    "    from IPython import display\n",
    "\n",
    "plt.ion()"
   ]
  },
  {
   "cell_type": "code",
   "execution_count": 4,
   "metadata": {},
   "outputs": [
    {
     "name": "stdout",
     "output_type": "stream",
     "text": [
      "Using device:  mps\n"
     ]
    }
   ],
   "source": [
    "# if GPU is to be used\n",
    "device = torch.device(\"cuda\" if torch.cuda.is_available() else \"mps\" if torch.backends.mps.is_available() else \"cpu\")\n",
    "print(\"Using device: \", device)"
   ]
  },
  {
   "cell_type": "markdown",
   "metadata": {
    "id": "ouqaGLfOFvp3"
   },
   "source": [
    "Replay Memory\n",
    "=============\n",
    "\n",
    "We\\'ll be using experience replay memory for training our DQN. It stores\n",
    "the transitions that the agent observes, allowing us to reuse this data\n",
    "later. By sampling from it randomly, the transitions that build up a\n",
    "batch are decorrelated. It has been shown that this greatly stabilizes\n",
    "and improves the DQN training procedure.\n",
    "\n",
    "For this, we\\'re going to need two classes:\n",
    "\n",
    "-   `Transition` - a named tuple representing a single transition in our\n",
    "    environment. It essentially maps (state, action) pairs to their\n",
    "    (next\\_state, reward) result, with the state being the screen\n",
    "    difference image as described later on.\n",
    "-   `ReplayMemory` - a cyclic buffer of bounded size that holds the\n",
    "    transitions observed recently. It also implements a `.sample()`\n",
    "    method for selecting a random batch of transitions for training.\n"
   ]
  },
  {
   "cell_type": "code",
   "execution_count": 5,
   "metadata": {
    "id": "gKG5_CdpFvp3"
   },
   "outputs": [],
   "source": [
    "# Define the type of the Transition tuple\n",
    "Transition = namedtuple(\"Transition\", (\"state\", \"action\", \"next_state\", \"reward\"))\n",
    "\n",
    "\n",
    "# ReplayMemory class with strong type hints\n",
    "class ReplayMemory:\n",
    "    def __init__(self, capacity: int):\n",
    "        # The deque stores Transition objects\n",
    "        self.memory: Deque[Transition] = deque([], maxlen=capacity)\n",
    "\n",
    "    def push(self, state: float, action: int, next_state: float, reward: float) -> None:\n",
    "        \"\"\"Save a transition\"\"\"\n",
    "        self.memory.append(Transition(state, action, next_state, reward))\n",
    "\n",
    "    def sample(self, batch_size: int) -> List[Transition]:\n",
    "        \"\"\"Sample a batch of transitions\"\"\"\n",
    "        return random.sample(self.memory, batch_size)\n",
    "\n",
    "    def __len__(self) -> int:\n",
    "        \"\"\"Return the current size of the memory\"\"\"\n",
    "        return len(self.memory)"
   ]
  },
  {
   "cell_type": "markdown",
   "metadata": {
    "id": "QOPg5cVuFvp3"
   },
   "source": [
    "Now, let\\'s define our model. But first, let\\'s quickly recap what a DQN\n",
    "is.\n",
    "\n",
    "DQN algorithm\n",
    "=============\n",
    "\n",
    "Our environment is deterministic, so all equations presented here are\n",
    "also formulated deterministically for the sake of simplicity. In the\n",
    "reinforcement learning literature, they would also contain expectations\n",
    "over stochastic transitions in the environment.\n",
    "\n",
    "Our aim will be to train a policy that tries to maximize the discounted,\n",
    "cumulative reward\n",
    "$R_{t_0} = \\sum_{t=t_0}^{\\infty} \\gamma^{t - t_0} r_t$, where $R_{t_0}$\n",
    "is also known as the *return*. The discount, $\\gamma$, should be a\n",
    "constant between $0$ and $1$ that ensures the sum converges. A lower\n",
    "$\\gamma$ makes rewards from the uncertain far future less important for\n",
    "our agent than the ones in the near future that it can be fairly\n",
    "confident about. It also encourages agents to collect reward closer in\n",
    "time than equivalent rewards that are temporally far away in the future.\n",
    "\n",
    "The main idea behind Q-learning is that if we had a function\n",
    "$Q^*: State \\times Action \\rightarrow \\mathbb{R}$, that could tell us\n",
    "what our return would be, if we were to take an action in a given state,\n",
    "then we could easily construct a policy that maximizes our rewards:\n",
    "\n",
    "$\\pi^*(s) = \\arg\\!\\max_a \\ Q^*(s, a)$\n",
    "\n",
    "However, we don\\'t know everything about the world, so we don\\'t have\n",
    "access to $Q^*$. But, since neural networks are universal function\n",
    "approximators, we can simply create one and train it to resemble $Q^*$.\n",
    "\n",
    "For our training update rule, we\\'ll use a fact that every $Q$ function\n",
    "for some policy obeys the Bellman equation:\n",
    "\n",
    "$Q^{\\pi}(s, a) = r + \\gamma Q^{\\pi}(s', \\pi(s'))$\n",
    "\n",
    "The difference between the two sides of the equality is known as the\n",
    "temporal difference error, $\\delta$:\n",
    "\n",
    "$\\delta = Q(s, a) - (r + \\gamma \\max_a' Q(s', a))$\n",
    "\n",
    "To minimize this error, we will use the [Huber\n",
    "loss](https://en.wikipedia.org/wiki/Huber_loss). The Huber loss acts\n",
    "like the mean squared error when the error is small, but like the mean\n",
    "absolute error when the error is large - this makes it more robust to\n",
    "outliers when the estimates of $Q$ are very noisy. We calculate this\n",
    "over a batch of transitions, $B$, sampled from the replay memory:\n",
    "\n",
    "$\\mathcal{L} = \\frac{1}{|B|}\\sum_{(s, a, s', r) \\ \\in \\ B} \\mathcal{L}(\\delta)$\n",
    "\n",
    "$\\begin{aligned}\n",
    "\\text{where} \\quad \\mathcal{L}(\\delta) = \\begin{cases}\n",
    "  \\frac{1}{2}{\\delta^2}  & \\text{for } |\\delta| \\le 1, \\\\\n",
    "  |\\delta| - \\frac{1}{2} & \\text{otherwise.}\n",
    "\\end{cases}\n",
    "\\end{aligned}$\n",
    "\n",
    "Q-network\n",
    "---------\n",
    "\n",
    "Our model will be a feed forward neural network that takes in the\n",
    "difference between the current and previous screen patches. It has two\n",
    "outputs, representing $Q(s, \\mathrm{left})$ and $Q(s, \\mathrm{right})$\n",
    "(where $s$ is the input to the network). In effect, the network is\n",
    "trying to predict the *expected return* of taking each action given the\n",
    "current input.\n"
   ]
  },
  {
   "cell_type": "markdown",
   "metadata": {},
   "source": [
    "Let's break this down step by step:\n",
    "1. **Q-network (Deep Q-Network)** In Deep Q-Learning, a **Q-network**  is a type of neural network that approximates the **Q-value function** . The Q-value function, $Q(s, a)$, estimates the \"quality\" (or expected future rewards) of taking a particular action $a$ when the system is in a particular state $s$.\n",
    "#### In simple terms: \n",
    "   - **State (s)** : Represents the current situation or observation of the environment. In your case, the \"screen patches\" (from the text) are the state.\n",
    "    \n",
    "   - **Action (a)** : Represents a decision or movement the agent can make, such as moving **left**  or **right**  in a game.\n",
    "    \n",
    "   - **Q(s, a)** : Represents the **expected return**  (future rewards) if the agent takes action $a$ in state $s$.\n",
    "- \n",
    "The Q-network learns to approximate the function $Q(s, a)$, which tells the agent how \"good\" each possible action is when it's in state $s$.\n",
    "\n",
    "2. **Inputs to the Q-network** In your case, the model is a **feed-forward neural network**  (a basic type of neural network) that takes as input the **difference between the current and previous screen patches** . \n",
    "- **Current and Previous Screen Patches** :\n",
    "  - These could be image patches or some form of observation data representing the environment.\n",
    "\n",
    "  - The difference between the two patches could be computed to highlight changes in the environment, which can help the agent focus on what has changed.\n",
    "\n",
    "  - This input helps the agent understand the dynamics of the environment, such as which way objects are moving or if a threat has appeared/disappeared.\n",
    "3. **Two Outputs: $Q(s, \\mathrm{left})$ and $Q(s, \\mathrm{right})$** \n",
    "   \n",
    "The network has **two outputs** . These outputs correspond to the **Q-values**  for two possible actions: moving **left**  and moving **right** . \n",
    "   - $Q(s, \\mathrm{left})$: This output represents the estimated **expected return**  or **expected future reward**  if the agent takes the **left**  action in the current state $s$.\n",
    "    \n",
    "   - $Q(s, \\mathrm{right})$: Similarly, this output represents the expected return if the agent takes the **right**  action.\n",
    "  \n",
    "4. **What the Network is Doing** The goal of the Q-network is to predict the **expected return**  for each action given the current input (the state $s$). \n",
    "   - **Expected Return** : This is the sum of future rewards the agent expects to receive after taking a particular action, given the current state.\n",
    "    \n",
    "   - The agent will select the action (either **left**  or **right** ) that has the **highest Q-value**  because this is the action expected to yield the most future reward.\n",
    "\n",
    "5. **Why Two Outputs?** The two outputs $Q(s, \\mathrm{left})$ and $Q(s, \\mathrm{right})$ allow the agent to compare the expected returns of different actions directly. When it's time to act, the agent will pick the action with the **higher Q-value** : \n",
    "   \n",
    "   - If $Q(s, \\mathrm{left}) > Q(s, \\mathrm{right})$, the agent will move **left** .\n",
    "    \n",
    "   - If $Q(s, \\mathrm{right}) > Q(s, \\mathrm{left})$, the agent will move **right** .\n",
    "\n",
    "6. **Training the Q-network** \n",
    "   The Q-network is trained by interacting with the environment. The agent takes actions, receives rewards, and uses the observed outcomes to adjust the Q-values. This process is done through **Q-learning**  with a loss function based on the **Bellman equation** , which updates the Q-values to better predict the expected returns over time.\n",
    "   \n",
    "### Summary: \n",
    " \n",
    "   - **Q-network** : A neural network that approximates the Q-value function $Q(s, a)$, where $s$ is the state and $a$ is the action.\n",
    "    \n",
    "   - **Input** : The difference between the current and previous observations (e.g., screen patches).\n",
    "    \n",
    "   - **Output** : Two values, representing $Q(s, \\mathrm{left})$ and $Q(s, \\mathrm{right})$, which estimate the expected returns of moving left and right.\n",
    "    \n",
    "   - **Purpose** : The network helps the agent decide which action to take by predicting which action will lead to the most reward over time.\n",
    "\n",
    "This structure allows the agent to **learn**  which actions are best to take in various situations to maximize cumulative rewards.\n"
   ]
  },
  {
   "cell_type": "code",
   "execution_count": 6,
   "metadata": {
    "id": "7PyURjAKFvp3"
   },
   "outputs": [
    {
     "data": {
      "text/plain": [
       "models.DQN"
      ]
     },
     "execution_count": 6,
     "metadata": {},
     "output_type": "execute_result"
    }
   ],
   "source": [
    "DQN"
   ]
  },
  {
   "cell_type": "markdown",
   "metadata": {
    "id": "5PQtGMYtFvp3"
   },
   "source": [
    "Training\n",
    "========\n",
    "\n",
    "Hyperparameters and utilities\n",
    "-----------------------------\n",
    "\n",
    "This cell instantiates our model and its optimizer, and defines some\n",
    "utilities:\n",
    "\n",
    "-   `select_action` - will select an action according to an epsilon\n",
    "    greedy policy. Simply put, we\\'ll sometimes use our model for\n",
    "    choosing the action, and sometimes we\\'ll just sample one uniformly.\n",
    "    The probability of choosing a random action will start at\n",
    "    `EPS_START` and will decay exponentially towards `EPS_END`.\n",
    "    `EPS_DECAY` controls the rate of the decay.\n"
   ]
  },
  {
   "cell_type": "code",
   "execution_count": 7,
   "metadata": {},
   "outputs": [],
   "source": [
    "def select_action(state):\n",
    "    global steps_done  # Use a global variable to track the number of steps done so far in training.\n",
    "\n",
    "    sample = (\n",
    "        random.random()\n",
    "    )  # Generate a random number between 0 and 1 to decide whether to explore or exploit. This is uniform distribution\n",
    "\n",
    "    # Calculate the current epsilon threshold (ε) for epsilon-greedy action selection.\n",
    "    # EPS_START is the initial exploration rate, EPS_END is the final exploration rate,\n",
    "    # and EPS_DECAY controls how quickly ε decays over time.\n",
    "    eps_threshold = EPS_END + (EPS_START - EPS_END) * math.exp(-1.0 * steps_done / EPS_DECAY)\n",
    "\n",
    "    steps_done += 1  # Increment the step counter.\n",
    "\n",
    "    # If the random sample is greater than the epsilon threshold, exploit (choose the best action).\n",
    "    # Be greedy\n",
    "    if sample > eps_threshold:\n",
    "        with torch.no_grad():  # Turn off gradient calculation, as we only want to select an action, not back-propagate.\n",
    "            # policy_net(state) returns the Q-values for all actions given the current state.\n",
    "            # .max(1) returns the maximum Q-value along the columns (actions) for each row (state).\n",
    "            # The second value returned by max() is the index of the action with the maximum Q-value.\n",
    "            # indices.view(1, 1) reshapes the result to match the expected output format.\n",
    "            return policy_net(state).max(1).indices.view(1, 1)\n",
    "\n",
    "    # If the random sample is less than the epsilon threshold, explore (choose a random action).\n",
    "    # Be not greedy, take a random action even if it doesn't benefit you\n",
    "    else:\n",
    "        # env.action_space.sample() selects a random action from the action space of the environment.\n",
    "        # Convert it to a tensor with the appropriate device and data type (long integer).\n",
    "        return torch.tensor([[env.action_space.sample()]], device=device, dtype=torch.long)\n",
    "\n",
    "    print(\"Current EPS Threshold: \", eps_threshold)"
   ]
  },
  {
   "cell_type": "code",
   "execution_count": 8,
   "metadata": {},
   "outputs": [],
   "source": [
    "EPS_START = 0.9  # EPS_START is the starting value of epsilon (high exploration)\n",
    "EPS_END = 0.05  # the final value of epsilon (minimal exploration)\n",
    "EPS_DECAY = 1000  # Decay rate, controls the rate of exponential decay of epsilon, higher means a slower decay"
   ]
  },
  {
   "cell_type": "markdown",
   "metadata": {},
   "source": [
    "#### Epsilon decay visualized"
   ]
  },
  {
   "cell_type": "code",
   "execution_count": 9,
   "metadata": {},
   "outputs": [
    {
     "data": {
      "image/png": "[encoded data removed]",
      "text/plain": [
       "<Figure size 1000x600 with 1 Axes>"
      ]
     },
     "metadata": {},
     "output_type": "display_data"
    }
   ],
   "source": [
    "## This code cell is just for visualization\n",
    "\n",
    "# Number of steps to simulate\n",
    "total_steps = 5000\n",
    "# Create a list to store the epsilon values over time\n",
    "eps_values = []\n",
    "\n",
    "# Calculate epsilon for each step\n",
    "for steps_done in range(total_steps):\n",
    "    eps_threshold = EPS_END + (EPS_START - EPS_END) * math.exp(-1.0 * steps_done / EPS_DECAY)\n",
    "    eps_values.append(eps_threshold)\n",
    "\n",
    "# Plot epsilon over time\n",
    "plt.figure(figsize=(10, 6))\n",
    "plt.plot(eps_values, label=\"Epsilon Threshold\")\n",
    "plt.title(\"Epsilon Decay Over Time\", fontsize=14)\n",
    "plt.xlabel(\"Steps\", fontsize=12)\n",
    "plt.ylabel(\"Epsilon Value\", fontsize=12)\n",
    "plt.grid(True)\n",
    "plt.legend()\n",
    "plt.show()\n",
    "\n",
    "## This code cell is just for visualization"
   ]
  },
  {
   "cell_type": "code",
   "execution_count": 10,
   "metadata": {},
   "outputs": [],
   "source": [
    "BATCH_SIZE = 128  # BATCH_SIZE is the number of transitions sampled from the replay buffer\n",
    "GAMMA = 0.99  # GAMMA is the discount factor as mentioned in the previous section\n",
    "\n",
    "TAU = 0.005  # TAU is the update rate of the target network\n",
    "LR = 1e-4  # LR is the learning rate of the ``AdamW`` optimizer"
   ]
  },
  {
   "cell_type": "markdown",
   "metadata": {},
   "source": [
    "**`plot_durations`**\n",
    "\n",
    "A helper for plotting the duration of episodes,\n",
    "along with an average over the last 100 episodes (the measure used\n",
    "in the official evaluations). The plot will be underneath the cell\n",
    "containing the main training loop, and will update after every\n",
    "episode."
   ]
  },
  {
   "cell_type": "code",
   "execution_count": 11,
   "metadata": {},
   "outputs": [],
   "source": [
    "def plot_durations(episode_durations, show_result=False, save_path=None):\n",
    "    plt.figure(figsize=(10, 5))\n",
    "    \n",
    "    durations_t = torch.tensor(episode_durations, dtype=torch.float)\n",
    "    \n",
    "    if show_result:\n",
    "        plt.title(\"Result\")\n",
    "    else:\n",
    "        plt.clf()\n",
    "        plt.title(\"Training...\")\n",
    "\n",
    "    plt.xlabel(\"Episode\")\n",
    "    plt.ylabel(\"Duration\")\n",
    "    \n",
    "    plt.plot(durations_t.numpy())\n",
    "\n",
    "    if len(durations_t) >= 100:\n",
    "        means = durations_t.unfold(0, 100, 1).mean(1).view(-1)\n",
    "        means = torch.cat((torch.zeros(99), means))\n",
    "        plt.plot(means.numpy())\n",
    "\n",
    "    plt.tight_layout()\n",
    "\n",
    "    if save_path is not None:\n",
    "        plt.savefig(save_path + \"_dqn_cartpolev1_policy_net_result_plot\", dpi=300)\n",
    "        print(f\"Figure saved to {save_path}\")\n",
    "\n",
    "    if 'get_ipython' in globals():\n",
    "        if not show_result:\n",
    "            display.clear_output(wait=True)\n",
    "            display.display(plt.gcf())\n",
    "        else:\n",
    "            display.display(plt.gcf())\n",
    "    else:\n",
    "        plt.show()\n",
    "\n",
    "    plt.close()"
   ]
  },
  {
   "cell_type": "code",
   "execution_count": 12,
   "metadata": {},
   "outputs": [
    {
     "name": "stdout",
     "output_type": "stream",
     "text": [
      "Number of possible actions: 2\n",
      "Actions:\n",
      "    0: Push cart to the left\n",
      "    1: Push cart to the right\n",
      "\n",
      "Number of state observations: 4\n",
      "State (Observation Space):\n",
      "      [Cart Position, Cart Velocity, Pole Angle, Pole Velocity]\n",
      "Current state:  [ 0.01310916  0.04185608 -0.00016213 -0.01853384]\n"
     ]
    }
   ],
   "source": [
    "# Get number of actions from gym action space\n",
    "n_actions = int(env.action_space.n)\n",
    "print(f\"Number of possible actions: {n_actions}\")\n",
    "print(\"\"\"Actions:\n",
    "    0: Push cart to the left\n",
    "    1: Push cart to the right\n",
    "\"\"\")\n",
    "\n",
    "# Get the number of state observations\n",
    "state, info = env.reset()\n",
    "n_observations = len(state)\n",
    "print(f\"Number of state observations: {n_observations}\")\n",
    "\n",
    "print(\"\"\"State (Observation Space):\n",
    "      [Cart Position, Cart Velocity, Pole Angle, Pole Velocity]\"\"\")\n",
    "print(\"Current state: \", state)"
   ]
  },
  {
   "cell_type": "code",
   "execution_count": 13,
   "metadata": {},
   "outputs": [],
   "source": [
    "# Initialize NNs\n",
    "\n",
    "# Initialize the policy network (the neural network that will be trained).\n",
    "# The input size is the number of observations (state dimensions), and the output size is the number of actions.\n",
    "policy_net = DQN(n_observations, n_actions).to(device)\n",
    "\n",
    "# Initialize the target network (a separate copy of the policy network).\n",
    "# This network will not be trained directly, but its weights will be periodically updated to the policy network's weights.\n",
    "target_net = DQN(n_observations, n_actions).to(device)\n",
    "\n",
    "# Copy the weights and biases from the policy network to the target network.\n",
    "# This ensures that the target network starts with the same parameters as the policy network.\n",
    "target_net.load_state_dict(policy_net.state_dict())\n",
    "\n",
    "# Huber loss\n",
    "criterion = nn.SmoothL1Loss()"
   ]
  },
  {
   "cell_type": "code",
   "execution_count": 14,
   "metadata": {},
   "outputs": [
    {
     "name": "stdout",
     "output_type": "stream",
     "text": [
      "We will keep a replay memory of:  10000\n"
     ]
    }
   ],
   "source": [
    "# Optimizer for training\n",
    "optimizer = optim.AdamW(policy_net.parameters(), lr=LR, amsgrad=True)\n",
    "\n",
    "number_of_replay_memory_samples = 10000\n",
    "memory = ReplayMemory(number_of_replay_memory_samples)\n",
    "\n",
    "print(\"We will keep a replay memory of: \", number_of_replay_memory_samples)"
   ]
  },
  {
   "cell_type": "code",
   "execution_count": 15,
   "metadata": {},
   "outputs": [],
   "source": [
    "# Training length based on the hardware available\n",
    "if torch.cuda.is_available() or torch.backends.mps.is_available():\n",
    "    num_episodes = 350\n",
    "else:\n",
    "    num_episodes = 50"
   ]
  },
  {
   "cell_type": "markdown",
   "metadata": {
    "id": "32VKP6yQFvp4"
   },
   "source": [
    "Training loop\n",
    "=============\n",
    "\n",
    "Finally, the code for training our model.\n",
    "\n",
    "Here, you can find an `optimize_model` function that performs a single\n",
    "step of the optimization. It first samples a batch, concatenates all the\n",
    "tensors into a single one, computes $Q(s_t, a_t)$ and\n",
    "$V(s_{t+1}) = \\max_a Q(s_{t+1}, a)$, and combines them into our loss. By\n",
    "definition we set $V(s) = 0$ if $s$ is a terminal state. We also use a\n",
    "target network to compute $V(s_{t+1})$ for added stability. The target\n",
    "network is updated at every step with a [soft\n",
    "update](https://arxiv.org/pdf/1509.02971.pdf) controlled by the\n",
    "hyperparameter `TAU`, which was previously defined.\n"
   ]
  },
  {
   "cell_type": "code",
   "execution_count": 16,
   "metadata": {
    "id": "fUCo_JskFvp4"
   },
   "outputs": [],
   "source": [
    "def optimize_model():\n",
    "    # Check if there are enough samples in memory to form a batch\n",
    "    if len(memory) < BATCH_SIZE:\n",
    "        return  # If not enough samples, exit the function early\n",
    "\n",
    "    # 1. Sample a batch of transitions from memory\n",
    "    transitions = memory.sample(BATCH_SIZE)\n",
    "\n",
    "    # Transpose the batch (see https://stackoverflow.com/a/19343/3343043 for\n",
    "    # detailed explanation). This converts batch-array of Transitions\n",
    "    # to Transition of batch-arrays.\n",
    "    # Transpose the batch to create a batch of each component (state, action, etc.)\n",
    "    # This converts a list of Transition objects into a Transition object\n",
    "    # containing tensors for states, actions, rewards, and next states.\n",
    "    # Example: If transitions contains three Transition objects, each with \n",
    "    # state, action, reward, next_state, the zip(*transitions) will group \n",
    "    # them into separate lists for each property.\n",
    "    # so we can do:\n",
    "    # batch.state\n",
    "    # batch.action\n",
    "    # batch.next_state\n",
    "    # batch.reward\n",
    "    # 2. Transpose the batch to group data by type (state, action, reward, next_state).\n",
    "    batch = Transition(*zip(*transitions))\n",
    "    \n",
    "    # 3. Create a mask for non-final states and concatenate non-final next states.\n",
    "    # Create a mask to identify non-final states\n",
    "    # A non-final state is one for which there is a next state available;\n",
    "    # we use a boolean mask to easily filter states that are not final.\n",
    "    non_final_mask = torch.tensor(\n",
    "        tuple(map(lambda s: s is not None, batch.next_state)), device=device, dtype=torch.bool\n",
    "    )\n",
    "    non_final_next_states = torch.cat([s for s in batch.next_state if s is not None])\n",
    "\n",
    "    # 4. Prepare data batches for training (state, action, reward).\n",
    "    # Concatenate the batch components into single tensors\n",
    "    # This prepares the batches for input into the neural network\n",
    "    state_batch = torch.cat(batch.state, dim=0)\n",
    "    action_batch = torch.cat(batch.action, dim=0)\n",
    "    reward_batch = torch.cat(batch.reward, dim=0)\n",
    "\n",
    "    # 5. Compute Q-values for current state-action pairs using the policy network.\n",
    "    # Q-values represent the expected cumulative reward for taking a specific action\n",
    "    # in a given state and then following the optimal policy thereafter.\n",
    "    # \n",
    "    # Compute Q(s_t, a) - the model computes Q(s_t), then we select the\n",
    "    # columns of actions taken. These are the actions which would've been taken\n",
    "    # for each batch state according to policy_net\n",
    "    # (5 in 2 separate steps)\n",
    "    ## Step 1: Compute Q-values for all actions in the given states\n",
    "    # all_q_values = policy_net(state_batch)\n",
    "    # Step 2: Select Q-values for the actions that were actually taken\n",
    "    # state_action_values = all_q_values.gather(1, action_batch)\n",
    "    state_action_values = policy_net(state_batch).gather(1, action_batch)\n",
    "\n",
    "    # 6. Compute V-values for next states using the target network. \n",
    "    # V-values represent the expected cumulative reward from being in a particular\n",
    "    # state and following the optimal policy from that point on. In this context,\n",
    "    # it's calculated as the maximum Q-value for the next state.\n",
    "    #\n",
    "    # Compute V(s_{t+1}) for all next states.\n",
    "    # Expected values of actions for non_final_next_states are computed based\n",
    "    # on the \"older\" target_net; selecting their best reward with max(1).values\n",
    "    # This is merged based on the mask, such that we'll have either the expected\n",
    "    # state value or 0 in case the state was final.\n",
    "    next_state_values = torch.zeros(BATCH_SIZE, device=device)\n",
    "    with torch.no_grad():\n",
    "        next_state_values[non_final_mask] = target_net(non_final_next_states).max(1).values\n",
    "    # 7. Calculate expected Q-values using the Bellman equation. This step combines the \n",
    "    # immediate reward with the discounted future value (V-value) to get the target Q-value.\n",
    "    expected_state_action_values = (next_state_values * GAMMA) + reward_batch\n",
    "\n",
    "    # 8. Compute the loss between current and expected Q-values. \n",
    "    # Compute Huber loss\n",
    "    loss = criterion(state_action_values, expected_state_action_values.unsqueeze(1))\n",
    "\n",
    "    # 9. Perform gradient descent\n",
    "    # Optimize the model\n",
    "    optimizer.zero_grad()\n",
    "    loss.backward()\n",
    "    # In-place gradient clipping\n",
    "    torch.nn.utils.clip_grad_value_(policy_net.parameters(), 100)\n",
    "    optimizer.step()"
   ]
  },
  {
   "cell_type": "markdown",
   "metadata": {
    "id": "M3UUS09jFvp4"
   },
   "source": [
    "Below, you can find the main training loop. At the beginning we reset\n",
    "the environment and obtain the initial `state` Tensor. Then, we sample\n",
    "an action, execute it, observe the next state and the reward (always 1),\n",
    "and optimize our model once. When the episode ends (our model fails), we\n",
    "restart the loop.\n",
    "\n",
    "Below, [num\\_episodes]{.title-ref} is set to 600 if a GPU is available,\n",
    "otherwise 50 episodes are scheduled so training does not take too long.\n",
    "However, 50 episodes is insufficient for to observe good performance on\n",
    "CartPole. You should see the model constantly achieve 500 steps within\n",
    "600 training episodes. Training RL agents can be a noisy process, so\n",
    "restarting training can produce better results if convergence is not\n",
    "observed.\n"
   ]
  },
  {
   "cell_type": "code",
   "execution_count": 17,
   "metadata": {
    "id": "VdfeRrgCFvp4"
   },
   "outputs": [
    {
     "data": {
      "image/png": "[encoded data removed]",
      "text/plain": [
       "<Figure size 1000x500 with 1 Axes>"
      ]
     },
     "metadata": {},
     "output_type": "display_data"
    },
    {
     "name": "stdout",
     "output_type": "stream",
     "text": [
      "Complete\n"
     ]
    }
   ],
   "source": [
    "steps_done = 0  # Step counter to track how many actions have been taken.\n",
    "episode_durations = []  # List to store the duration (i.e., time steps) for each episode.\n",
    "\n",
    "for i_episode in range(num_episodes):\n",
    "\n",
    "    # Step 1: Reset the environment at the start of each episode and get the initial state.\n",
    "    state, info = env.reset()  # Reset the environment and get the initial state.\n",
    "    \n",
    "    # Step 2: Convert the state into a tensor and add a batch dimension (unsqueeze(0)).\n",
    "    state = torch.tensor(state, dtype=torch.float32, device=device).unsqueeze(0)\n",
    "    \n",
    "    # Step 3: Start an episode loop (for each time step in the current episode).\n",
    "    for t in count():\n",
    "        # Step 4: Select an action based on the current state using the policy network (with exploration).\n",
    "        action = select_action(state)\n",
    "        \n",
    "        # Step 5: Take the action in the environment and receive the next observation, reward, and done flags.\n",
    "        observation, reward, terminated, truncated, _ = env.step(action.item())\n",
    "        \n",
    "        # Step 6: Convert the reward into a tensor.\n",
    "        reward = torch.tensor([reward], device=device)\n",
    "\n",
    "        # Step 7: Check if the episode is done (either terminated or truncated).\n",
    "        done = terminated or truncated\n",
    "\n",
    "        # Step 8: If the episode has terminated, set `next_state` to None (i.e., no next state).\n",
    "        if terminated:\n",
    "            next_state = None\n",
    "        else:\n",
    "            # Step 9: Otherwise, convert the next observation into a tensor with a batch dimension.\n",
    "            next_state = torch.tensor(observation, dtype=torch.float32, device=device).unsqueeze(0)\n",
    "\n",
    "        # Step 10: Store the transition (state, action, next state, reward) in memory for replay.\n",
    "        memory.push(state, action, next_state, reward)\n",
    "\n",
    "        # Step 11: Move to the next state (update the current state to the new state).\n",
    "        state = next_state\n",
    "\n",
    "        # Step 12: Perform one step of optimization on the policy network (train the model).\n",
    "        optimize_model()\n",
    "\n",
    "        # Step 13: Soft update the target network’s weights (perform a gradual update).\n",
    "        # θ′ ← τ θ + (1 − τ) θ′, where θ′ is the target network and θ is the policy network.\n",
    "        target_net_state_dict = target_net.state_dict()\n",
    "        policy_net_state_dict = policy_net.state_dict()\n",
    "        for key in policy_net_state_dict:\n",
    "            target_net_state_dict[key] = policy_net_state_dict[key] * TAU + target_net_state_dict[key] * (1 - TAU)\n",
    "        target_net.load_state_dict(target_net_state_dict)\n",
    "\n",
    "        # Step 14: If the episode is done, record the duration of the episode.\n",
    "        if done:\n",
    "            episode_durations.append(t + 1)\n",
    "            \n",
    "            # Step 15: Update the plot showing the episode durations.\n",
    "            plot_durations(episode_durations=episode_durations)\n",
    "            break  # Exit the time step loop and start the next episode.\n",
    "\n",
    "# After all episodes are complete, print a message and show the final results.\n",
    "print(\"Complete\")"
   ]
  },
  {
   "cell_type": "markdown",
   "metadata": {
    "id": "RrbFEYiaFvp5"
   },
   "source": [
    "Here is the diagram that illustrates the overall resulting data flow.\n",
    "\n",
    "![](https://pytorch.org/tutorials/_static/img/reinforcement_learning_diagram.jpg)\n",
    "\n",
    "Actions are chosen either randomly or based on a policy, getting the\n",
    "next step sample from the gym environment. We record the results in the\n",
    "replay memory and also run optimization step on every iteration.\n",
    "Optimization picks a random batch from the replay memory to do training\n",
    "of the new policy. The \\\"older\\\" target\\_net is also used in\n",
    "optimization to compute the expected Q values. A soft update of its\n",
    "weights are performed at every step.\n"
   ]
  },
  {
   "cell_type": "code",
   "execution_count": 18,
   "metadata": {},
   "outputs": [
    {
     "name": "stdout",
     "output_type": "stream",
     "text": [
      "Model saved as: output/episodes_250_steps_11136_2024-10-19_01-09-24_dqn_cartpolev1_policy_net_steps.pth\n",
      "Figure saved to output/episodes_250_steps_11136_2024-10-19_01-09-24\n"
     ]
    },
    {
     "data": {
      "image/png": "[encoded data removed]",
      "text/plain": [
       "<Figure size 1000x500 with 1 Axes>"
      ]
     },
     "metadata": {},
     "output_type": "display_data"
    }
   ],
   "source": [
    "# Get the current timestamp in a readable format (Year-Month-Day_Hour-Minute-Second)\n",
    "timestamp = datetime.now().strftime(\"%Y-%m-%d_%H-%M-%S\")\n",
    "\n",
    "name_variable = f\"output/episodes_{num_episodes}_steps_{steps_done}_{timestamp}\"\n",
    "\n",
    "# Create a filename that includes both the steps_done and timestamp\n",
    "filename = f\"{name_variable}_dqn_cartpolev1_policy_net_steps.pth\"\n",
    "\n",
    "# Save the policy network with the dynamically generated filename\n",
    "torch.save(policy_net.state_dict(), filename)\n",
    "\n",
    "print(f\"Model saved as: {filename}\")\n",
    "\n",
    "# Plot the episode durations again, but this time showing the final result.\n",
    "plot_durations(episode_durations=episode_durations, show_result=True, save_path=name_variable)\n",
    "\n",
    "# Turn off interactive plotting and display the plot.\n",
    "plt.ioff()\n",
    "plt.show()"
   ]
  },
  {
   "cell_type": "code",
   "execution_count": null,
   "metadata": {},
   "outputs": [],
   "source": []
  }
 ],
 "metadata": {
  "colab": {
   "provenance": []
  },
  "kernelspec": {
   "display_name": "rl-venv",
   "language": "python",
   "name": "python3"
  },
  "language_info": {
   "codemirror_mode": {
    "name": "ipython",
    "version": 3
   },
   "file_extension": ".py",
   "mimetype": "text/x-python",
   "name": "python",
   "nbconvert_exporter": "python",
   "pygments_lexer": "ipython3",
   "version": "3.9.7"
  }
 },
 "nbformat": 4,
 "nbformat_minor": 0
}
